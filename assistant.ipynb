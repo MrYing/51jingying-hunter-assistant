{
 "cells": [
  {
   "cell_type": "code",
   "execution_count": 26,
   "metadata": {},
   "outputs": [],
   "source": [
    "cookie = '你的cookie'\n",
    "case_id = '你的case id'\n",
    "\n",
    "get_headers = {\n",
    "    'Host': 'www.51jingying.com',\n",
    "    'User-Agent': 'Mozilla/5.0 (Windows NT 10.0; WOW64) AppleWebKit/537.36 (KHTML, like Gecko) Chrome/73.0.3683.86 Safari/537.36',\n",
    "    'Cookie': cookie\n",
    "} \n",
    "\n",
    "post_headers = {\n",
    "#     'Accept': 'application/json, text/javascript, */*; q=0.01',\n",
    "    'X-Requested-With': 'XMLHttpRequest',\n",
    "    'Content-Type': 'application/x-www-form-urlencoded; charset=UTF-8',\n",
    "    'Host': 'www.51jingying.com',\n",
    "    'User-Agent': 'Mozilla/5.0 (Windows NT 10.0; WOW64) AppleWebKit/537.36 (KHTML, like Gecko) Chrome/73.0.3683.86 Safari/537.36',\n",
    "    'Cookie': cookie\n",
    "}\n",
    "\n",
    "home_url = 'https://www.51jingying.com/spy/index.php?act=generalSpyIndex'\n",
    "resume_url = 'https://www.51jingying.com/spy/searchmanager.php?act=getResumeSrch'\n",
    "post_url = 'https://www.51jingying.com/spy/webchat.php?act=postCard'\n",
    "\n",
    "data = {\n",
    "    'url': 'https://www.51jingying.com/spy/searchmanager.php?act=getResumeSrch',\n",
    "    'fulltext': 'java',\n",
    "    'onlyfunc': 1,\n",
    "    'exparea': '010000',\n",
    "    'srchpage': 1,\n",
    "    'type': 'searchall',\n",
    "    'downandup': 0,\n",
    "    'mgrsort': 0,\n",
    "    'resumetime': 6\n",
    "}"
   ]
  },
  {
   "cell_type": "code",
   "execution_count": 27,
   "metadata": {},
   "outputs": [],
   "source": [
    "import time\n",
    "import json\n",
    "import random\n",
    "import requests\n",
    "from lxml.html import etree"
   ]
  },
  {
   "cell_type": "code",
   "execution_count": 28,
   "metadata": {},
   "outputs": [],
   "source": [
    "def request(url, is_get=True, data=None):\n",
    "    # 对requests的简单封装\n",
    "    try:\n",
    "        if is_get is True:\n",
    "            resp = requests.get(url, headers=get_headers)\n",
    "        else:\n",
    "            resp = requests.post(url, headers=post_headers, data=data)\n",
    "        return resp\n",
    "    except:\n",
    "        return\n",
    "    \n",
    "def html2tree(html):\n",
    "    # 将html转为tree\n",
    "    try:\n",
    "        tree = etree.HTML(html)\n",
    "        return tree\n",
    "    except:\n",
    "        return"
   ]
  },
  {
   "cell_type": "code",
   "execution_count": 29,
   "metadata": {},
   "outputs": [],
   "source": [
    "def get_delivered_count():\n",
    "    # 获取已递出名片的数量\n",
    "    resp = request(home_url)\n",
    "    if not resp:\n",
    "        return -1\n",
    "    tree = html2tree(resp.text)\n",
    "    if not tree:\n",
    "        return -1\n",
    "    try:\n",
    "        delivered_count = tree.xpath('//div[contains(@class, \"spyindex_resume\")]/p/span/text()')\n",
    "    except:\n",
    "        return -1\n",
    "    return int(delivered_count[0])"
   ]
  },
  {
   "cell_type": "code",
   "execution_count": 30,
   "metadata": {},
   "outputs": [],
   "source": [
    "def get_managers_ids():\n",
    "    # 获取经理人id\n",
    "    resp = request(resume_url, False, data)\n",
    "    if not resp:\n",
    "        return []\n",
    "    return resp.json()['mgrid']"
   ]
  },
  {
   "cell_type": "code",
   "execution_count": 31,
   "metadata": {},
   "outputs": [],
   "source": [
    "def recommend(manager_id, case_id):\n",
    "    # 递名片\n",
    "    resp = request(post_url, False, {'userid': manager_id+'_1', 'caseid': case_id})\n",
    "    if not resp:\n",
    "        return False\n",
    "    return True if resp.json().get('msg') == '递送成功' else False"
   ]
  },
  {
   "cell_type": "code",
   "execution_count": 32,
   "metadata": {},
   "outputs": [],
   "source": [
    "def main():\n",
    "    # 获取已经投递的数量\n",
    "    delivered_count = get_delivered_count()\n",
    "    if delivered_count == -1:\n",
    "        print('未获取到今日递出数量！ 请尝试更新cookie！')\n",
    "        return\n",
    "    print('今日已递出{}个名片'.format(delivered_count))\n",
    "    # 每天投递20个\n",
    "    remaining = 20 - delivered_count\n",
    "    # 获取第一页经理人id\n",
    "    managers = get_managers_ids()\n",
    "    if managers == []:\n",
    "        print('未获取到经理人ID！ 请尝试更新cookie！ ')\n",
    "        return \n",
    "    print('获取经理人信息成功！')\n",
    "    while remaining > 0 and len(managers) > 0:\n",
    "        manager = managers.pop()\n",
    "        if recommend(manager, case_id) is True:\n",
    "            print('递送成功！经理人id:', manager)\n",
    "            remaining -= 1\n",
    "        else:\n",
    "            print('递送失败！经理人id：', manager)\n",
    "        time.sleep(random.random()*10)\n",
    "    print('今日投递简历数：', get_delivered_count())"
   ]
  },
  {
   "cell_type": "code",
   "execution_count": 33,
   "metadata": {},
   "outputs": [
    {
     "name": "stderr",
     "output_type": "stream",
     "text": [
      "c:\\users\\administrator\\appdata\\local\\programs\\python\\python37-32\\lib\\site-packages\\ipykernel_launcher.py:7: FutureWarning: The behavior of this method will change in future versions. Use specific 'len(elem)' or 'elem is not None' test instead.\n",
      "  import sys\n"
     ]
    },
    {
     "name": "stdout",
     "output_type": "stream",
     "text": [
      "今日已递出1个名片\n",
      "获取经理人信息成功！\n",
      "delivered card to 1630068225\n",
      "delivered card to 1600992253\n",
      "delivered card to 1587142790\n",
      "delivered card to 1649641661\n",
      "delivered card to 1649687553\n",
      "delivered card to 1610975204\n",
      "delivered card to 1528480866\n",
      "delivered card to 1610918901\n",
      "delivered card to 1629367327\n",
      "delivered card to 1632838587\n",
      "delivered card to 1649320776\n",
      "delivered card to 1624167321\n",
      "delivered card to 1649521225\n",
      "delivered card to 1641292690\n",
      "delivered card to 1648793651\n",
      "delivered card to 1632667137\n",
      "delivered card to 1650013278\n",
      "delivered card to 1648533531\n",
      "delivered card to 1561784080\n"
     ]
    }
   ],
   "source": [
    "main()"
   ]
  },
  {
   "cell_type": "markdown",
   "metadata": {},
   "source": []
  }
 ],
 "metadata": {
  "kernelspec": {
   "display_name": "Python 3",
   "language": "python",
   "name": "python3"
  },
  "language_info": {
   "codemirror_mode": {
    "name": "ipython",
    "version": 3
   },
   "file_extension": ".py",
   "mimetype": "text/x-python",
   "name": "python",
   "nbconvert_exporter": "python",
   "pygments_lexer": "ipython3",
   "version": "3.7.2"
  }
 },
 "nbformat": 4,
 "nbformat_minor": 2
}
